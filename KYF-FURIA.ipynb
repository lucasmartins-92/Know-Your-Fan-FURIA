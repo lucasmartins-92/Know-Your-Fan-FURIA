{
 "cells": [
  {
   "cell_type": "code",
   "execution_count": null,
   "id": "dc3e1778-4766-4527-9544-cab333fa1355",
   "metadata": {},
   "outputs": [
    {
     "data": {
      "text/markdown": [
       "\n",
       "# Know Your Fan - FURIA Challenge (Notebook Version)\n",
       "\n",
       "Este caderno simula uma solução orientada a dados que coleta e analisa informação sobre fãs de esports. O objetivo é explorar como uma equipe como a FURIA pode entender melhor seus fãs para oferecer serviços mais focados e adaptados às suas necessidades.\n",
       "\n",
       "O que faremos:\n",
       "\n",
       "1. Simular dados de entrada (informação básica, interesses, links pessoais)\n",
       "2. Enriquecer os dados (validar documentos, scraping de redes sociais, links de esports)\n",
       "3. Analisar os dados (categorizar comportamento do fã, relevância de conteúdos)\n",
       "4. Exportar um perfil estruturado.\n",
       "\n",
       "---\n"
      ],
      "text/plain": [
       "<IPython.core.display.Markdown object>"
      ]
     },
     "metadata": {},
     "output_type": "display_data"
    },
    {
     "data": {
      "text/markdown": [
       "## Simulated User Input"
      ],
      "text/plain": [
       "<IPython.core.display.Markdown object>"
      ]
     },
     "metadata": {},
     "output_type": "display_data"
    },
    {
     "data": {
      "text/html": [
       "<div>\n",
       "<style scoped>\n",
       "    .dataframe tbody tr th:only-of-type {\n",
       "        vertical-align: middle;\n",
       "    }\n",
       "\n",
       "    .dataframe tbody tr th {\n",
       "        vertical-align: top;\n",
       "    }\n",
       "\n",
       "    .dataframe thead th {\n",
       "        text-align: right;\n",
       "    }\n",
       "</style>\n",
       "<table border=\"1\" class=\"dataframe\">\n",
       "  <thead>\n",
       "    <tr style=\"text-align: right;\">\n",
       "      <th></th>\n",
       "      <th>name</th>\n",
       "      <th>cpf</th>\n",
       "      <th>address</th>\n",
       "      <th>interests</th>\n",
       "      <th>activities</th>\n",
       "      <th>purchases</th>\n",
       "      <th>social_links</th>\n",
       "      <th>esports_links</th>\n",
       "    </tr>\n",
       "  </thead>\n",
       "  <tbody>\n",
       "    <tr>\n",
       "      <th>0</th>\n",
       "      <td>Lucas Martins</td>\n",
       "      <td>123.456.789-00</td>\n",
       "      <td>Brasília, DF</td>\n",
       "      <td>CS:GO, CS2, Valorant</td>\n",
       "      <td>Assistiu IEM Rio, participei de campeonato de CS2</td>\n",
       "      <td>Camiseta oficial FURIA Adidas preta, assinatur...</td>\n",
       "      <td>[https://x.com/sofiaespanha, https://instagram...</td>\n",
       "      <td>[https://liquipedia.net/counterstrike/Lucas, h...</td>\n",
       "    </tr>\n",
       "  </tbody>\n",
       "</table>\n",
       "</div>"
      ],
      "text/plain": [
       "            name             cpf       address             interests  \\\n",
       "0  Lucas Martins  123.456.789-00  Brasília, DF  CS:GO, CS2, Valorant   \n",
       "\n",
       "                                          activities  \\\n",
       "0  Assistiu IEM Rio, participei de campeonato de CS2   \n",
       "\n",
       "                                           purchases  \\\n",
       "0  Camiseta oficial FURIA Adidas preta, assinatur...   \n",
       "\n",
       "                                        social_links  \\\n",
       "0  [https://x.com/sofiaespanha, https://instagram...   \n",
       "\n",
       "                                       esports_links  \n",
       "0  [https://liquipedia.net/counterstrike/Lucas, h...  "
      ]
     },
     "metadata": {},
     "output_type": "display_data"
    }
   ],
   "source": [
    "from IPython.display import display, Markdown\n",
    "import pandas as pd\n",
    "\n",
    "# 1\n",
    "intro_text = \"\"\"\n",
    "# Know Your Fan - FURIA Challenge (Notebook Version)\n",
    "\n",
    "Este caderno simula uma solução orientada a dados que coleta e analisa informação sobre fãs de esports. O objetivo é explorar como uma equipe como a FURIA pode entender melhor seus fãs para oferecer serviços mais focados e adaptados às suas necessidades.\n",
    "\n",
    "O que faremos:\n",
    "\n",
    "1. Simular dados de entrada (informação básica, interesses, links pessoais)\n",
    "2. Enriquecer os dados (validar documentos, scraping de redes sociais, links de esports)\n",
    "3. Analisar os dados (categorizar comportamento do fã, relevância de conteúdos)\n",
    "4. Exportar um perfil estruturado.\n",
    "\n",
    "---\n",
    "\"\"\"\n",
    "\n",
    "# 2 - simulando dados de entrada\n",
    "form_data = {\n",
    "    \"name\": \"Lucas Martins\",\n",
    "    \"cpf\": \"123.456.789-00\",\n",
    "    \"address\": \"Brasília, DF\",\n",
    "    \"interests\": \"CS:GO, CS2, Valorant\",\n",
    "    \"activities\": \"Assistiu IEM Rio, participei de campeonato de CS2\",\n",
    "    \"purchases\": \"Camiseta oficial FURIA Adidas preta, assinatura HLTV+\",\n",
    "    \"social_links\": [\n",
    "        \"https://x.com/sofiaespanha\",\n",
    "        \"https://instagram.com/sofiaespanha\",\n",
    "    ],\n",
    "    \"esports_links\": [\n",
    "        \"https://liquipedia.net/counterstrike/Lucas\",\n",
    "        \"https://steamcommunity.com/id/lucasvalorant/\",\n",
    "    ],\n",
    "}\n",
    "\n",
    "form_df = pd.DataFrame([form_data])\n",
    "\n",
    "# Mostrar seções iniciais\n",
    "display(Markdown(intro_text))\n",
    "display(Markdown(\"## Simulated User Input\"))\n",
    "display(form_df)"
   ]
  },
  {
   "cell_type": "code",
   "execution_count": null,
   "id": "fa3ac389-4e76-4511-8fd1-310069a2e3ef",
   "metadata": {},
   "outputs": [
    {
     "data": {
      "text/markdown": [
       "## Validação de documentos por IA (simulação)"
      ],
      "text/plain": [
       "<IPython.core.display.Markdown object>"
      ]
     },
     "metadata": {},
     "output_type": "display_data"
    },
    {
     "data": {
      "text/markdown": [
       "**Resultado:** `True`"
      ],
      "text/plain": [
       "<IPython.core.display.Markdown object>"
      ]
     },
     "metadata": {},
     "output_type": "display_data"
    }
   ],
   "source": [
    "# Step 3: Simulação de validação de documentos com IA\n",
    "# Simula uma resposta do ChatGPT caso os dados informados estejam de acordo com os documentos\n",
    "\n",
    "\n",
    "def mock_chatgpt_document_validation(ocr_text, form_name, form_cpf):\n",
    "    \"\"\"\n",
    "    Simula uma resposta da IA que retorna True se nome e CPF do formulário baterem\n",
    "    com os dados extraídos do documento com OCR.\n",
    "    \"\"\"\n",
    "    normalized_name = form_name.lower()\n",
    "    normalized_cpf = form_cpf.replace(\".\", \"\").replace(\"-\", \"\")\n",
    "\n",
    "    text = ocr_text.lower()\n",
    "    text = text.replace(\".\", \"\").replace(\"-\", \"\")\n",
    "\n",
    "    name_found = normalized_name in text\n",
    "    cpf_found = normalized_cpf in text\n",
    "\n",
    "    return name_found and cpf_found\n",
    "\n",
    "\n",
    "# Output simulado do OCR\n",
    "simulated_ocr_text = \"\"\"\n",
    "REPÚBLICA FEDERATIVA DO BRASIL\n",
    "CARTEIRA DE IDENTIDADE\n",
    "Nome: Lucas Martins\n",
    "CPF: 123.456.789-00\n",
    "\"\"\"\n",
    "\n",
    "# Entrada no formulário\n",
    "form_name = form_data[\"name\"]\n",
    "form_cpf = form_data[\"cpf\"]\n",
    "\n",
    "# Simulação de validação IA\n",
    "validation_result = mock_chatgpt_document_validation(\n",
    "    simulated_ocr_text, form_name, form_cpf\n",
    ")\n",
    "\n",
    "from IPython.display import Markdown\n",
    "\n",
    "display(Markdown(\"## Validação de documentos por IA (simulação)\"))\n",
    "display(Markdown(f\"**Resultado:** `{validation_result}`\"))"
   ]
  },
  {
   "cell_type": "code",
   "execution_count": null,
   "id": "81d81d25-0523-4034-a66e-89d069f9cadd",
   "metadata": {},
   "outputs": [
    {
     "data": {
      "text/markdown": [
       "## Análise dos perfis de redes sociais"
      ],
      "text/plain": [
       "<IPython.core.display.Markdown object>"
      ]
     },
     "metadata": {},
     "output_type": "display_data"
    },
    {
     "data": {
      "text/html": [
       "<div>\n",
       "<style scoped>\n",
       "    .dataframe tbody tr th:only-of-type {\n",
       "        vertical-align: middle;\n",
       "    }\n",
       "\n",
       "    .dataframe tbody tr th {\n",
       "        vertical-align: top;\n",
       "    }\n",
       "\n",
       "    .dataframe thead th {\n",
       "        text-align: right;\n",
       "    }\n",
       "</style>\n",
       "<table border=\"1\" class=\"dataframe\">\n",
       "  <thead>\n",
       "    <tr style=\"text-align: right;\">\n",
       "      <th></th>\n",
       "      <th>url</th>\n",
       "      <th>status</th>\n",
       "      <th>keywords_found</th>\n",
       "    </tr>\n",
       "  </thead>\n",
       "  <tbody>\n",
       "    <tr>\n",
       "      <th>0</th>\n",
       "      <td>https://x.com/sofiaespanha</td>\n",
       "      <td>unreachable</td>\n",
       "      <td>[]</td>\n",
       "    </tr>\n",
       "    <tr>\n",
       "      <th>1</th>\n",
       "      <td>https://instagram.com/sofiaespanha</td>\n",
       "      <td>ok</td>\n",
       "      <td>[]</td>\n",
       "    </tr>\n",
       "  </tbody>\n",
       "</table>\n",
       "</div>"
      ],
      "text/plain": [
       "                                  url       status keywords_found\n",
       "0          https://x.com/sofiaespanha  unreachable             []\n",
       "1  https://instagram.com/sofiaespanha           ok             []"
      ]
     },
     "metadata": {},
     "output_type": "display_data"
    }
   ],
   "source": [
    "import requests\n",
    "from bs4 import BeautifulSoup\n",
    "\n",
    "# Define esports-related keywords\n",
    "esports_keywords = [\n",
    "    \"furia\",\n",
    "    \"csgo\",\n",
    "    \"cs:go\",\n",
    "    \"valorant\",\n",
    "    \"league of legends\",\n",
    "    \"lol\",\n",
    "    \"r6\",\n",
    "    \"rainbow six\",\n",
    "    \"fortnite\",\n",
    "    \"esports\",\n",
    "    \"cblol\",\n",
    "    \"iem\",\n",
    "    \"major\",\n",
    "]\n",
    "\n",
    "\n",
    "# Function to fetch page text and match keywords\n",
    "def analyze_social_profile(url, keywords):\n",
    "    try:\n",
    "        response = requests.get(url, timeout=5, headers={\"User-Agent\": \"Mozilla/5.0\"})\n",
    "        response.raise_for_status()\n",
    "    except requests.RequestException:\n",
    "        return {\"url\": url, \"status\": \"unreachable\", \"keywords_found\": []}\n",
    "\n",
    "    soup = BeautifulSoup(response.text, \"html.parser\")\n",
    "    page_text = soup.get_text(separator=\" \").lower()\n",
    "\n",
    "    matches = [kw for kw in keywords if kw in page_text]\n",
    "\n",
    "    return {\"url\": url, \"status\": \"ok\", \"keywords_found\": matches}\n",
    "\n",
    "\n",
    "# Analyze all links from the form data\n",
    "social_analysis_results = [\n",
    "    analyze_social_profile(link, esports_keywords) for link in form_data[\"social_links\"]\n",
    "]\n",
    "\n",
    "# Display results as a DataFrame\n",
    "import pandas as pd\n",
    "\n",
    "social_df = pd.DataFrame(social_analysis_results)\n",
    "\n",
    "from IPython.display import Markdown\n",
    "\n",
    "display(Markdown(\"## Análise dos perfis de redes sociais\"))\n",
    "display(social_df)"
   ]
  },
  {
   "cell_type": "code",
   "execution_count": null,
   "id": "e10b4030-e03f-4dbb-b177-0aff0c407b24",
   "metadata": {},
   "outputs": [
    {
     "data": {
      "text/markdown": [
       "## Validação de perfis de esports com base em relevância de conteúdo"
      ],
      "text/plain": [
       "<IPython.core.display.Markdown object>"
      ]
     },
     "metadata": {},
     "output_type": "display_data"
    },
    {
     "data": {
      "text/html": [
       "<div>\n",
       "<style scoped>\n",
       "    .dataframe tbody tr th:only-of-type {\n",
       "        vertical-align: middle;\n",
       "    }\n",
       "\n",
       "    .dataframe tbody tr th {\n",
       "        vertical-align: top;\n",
       "    }\n",
       "\n",
       "    .dataframe thead th {\n",
       "        text-align: right;\n",
       "    }\n",
       "</style>\n",
       "<table border=\"1\" class=\"dataframe\">\n",
       "  <thead>\n",
       "    <tr style=\"text-align: right;\">\n",
       "      <th></th>\n",
       "      <th>link</th>\n",
       "      <th>status</th>\n",
       "      <th>matched_keywords</th>\n",
       "      <th>name_found</th>\n",
       "    </tr>\n",
       "  </thead>\n",
       "  <tbody>\n",
       "    <tr>\n",
       "      <th>0</th>\n",
       "      <td>https://liquipedia.net/counterstrike/Lucas</td>\n",
       "      <td>unreachable</td>\n",
       "      <td>[]</td>\n",
       "      <td>False</td>\n",
       "    </tr>\n",
       "    <tr>\n",
       "      <th>1</th>\n",
       "      <td>https://steamcommunity.com/id/StrixLuke/</td>\n",
       "      <td>ok</td>\n",
       "      <td>[]</td>\n",
       "      <td>False</td>\n",
       "    </tr>\n",
       "  </tbody>\n",
       "</table>\n",
       "</div>"
      ],
      "text/plain": [
       "                                         link       status matched_keywords  \\\n",
       "0  https://liquipedia.net/counterstrike/Lucas  unreachable               []   \n",
       "1    https://steamcommunity.com/id/StrixLuke/           ok               []   \n",
       "\n",
       "   name_found  \n",
       "0       False  \n",
       "1       False  "
      ]
     },
     "metadata": {},
     "output_type": "display_data"
    }
   ],
   "source": [
    "# Re-import necessary packages after reset\n",
    "import pandas as pd\n",
    "import requests\n",
    "from bs4 import BeautifulSoup\n",
    "from IPython.display import display, Markdown\n",
    "\n",
    "# Restore sample user data\n",
    "form_data = {\n",
    "    \"name\": \"Lucas Martins\",\n",
    "    \"cpf\": \"123.456.789-00\",\n",
    "    \"address\": \"Brasília, DF\",\n",
    "    \"interests\": \"CS:GO, Valorant, AI in gaming\",\n",
    "    \"activities\": \"Assistiu IEM Rio, participei de campeonato de CS2\",\n",
    "    \"purchases\": \"Camiseta oficial FURIA Adidas preta, assinatura HLTV+\",\n",
    "    \"social_links\": [\"https://twitter.com/lucas_fan\", \"https://instagram.com/lucas_gg\"],\n",
    "    \"esports_links\": [\n",
    "        \"https://liquipedia.net/counterstrike/Lucas\",\n",
    "        \"https://steamcommunity.com/id/StrixLuke/\",\n",
    "    ],\n",
    "}\n",
    "\n",
    "# Esports keywords\n",
    "esports_keywords = [\n",
    "    \"furia\",\n",
    "    \"csgo\",\n",
    "    \"cs:go\",\n",
    "    \"valorant\",\n",
    "    \"league of legends\",\n",
    "    \"lol\",\n",
    "    \"r6\",\n",
    "    \"rainbow six\",\n",
    "    \"fortnite\",\n",
    "    \"esports\",\n",
    "    \"cblol\",\n",
    "    \"iem\",\n",
    "    \"major\",\n",
    "]\n",
    "\n",
    "\n",
    "# Esports profile validation function\n",
    "def validate_esports_profile(url, user_name):\n",
    "    if not url.startswith(\"http\"):\n",
    "        return {\n",
    "            \"link\": url,\n",
    "            \"status\": \"invalid\",\n",
    "            \"matched_keywords\": [],\n",
    "            \"name_found\": False,\n",
    "        }\n",
    "\n",
    "    try:\n",
    "        response = requests.get(url, timeout=5, headers={\"User-Agent\": \"Mozilla/5.0\"})\n",
    "        response.raise_for_status()\n",
    "    except requests.RequestException:\n",
    "        return {\n",
    "            \"link\": url,\n",
    "            \"status\": \"unreachable\",\n",
    "            \"matched_keywords\": [],\n",
    "            \"name_found\": False,\n",
    "        }\n",
    "\n",
    "    content = (\n",
    "        BeautifulSoup(response.text, \"html.parser\").get_text(separator=\" \").lower()\n",
    "    )\n",
    "\n",
    "    detected_keywords = [kw for kw in esports_keywords if kw in content]\n",
    "    name_present = user_name.lower() in content\n",
    "\n",
    "    return {\n",
    "        \"link\": url,\n",
    "        \"status\": \"ok\",\n",
    "        \"matched_keywords\": detected_keywords,\n",
    "        \"name_found\": name_present,\n",
    "    }\n",
    "\n",
    "\n",
    "# Analyze esports profile links\n",
    "esports_profile_results = [\n",
    "    validate_esports_profile(link, form_data[\"name\"])\n",
    "    for link in form_data[\"esports_links\"]\n",
    "]\n",
    "\n",
    "# Display results\n",
    "df_esports_profiles = pd.DataFrame(esports_profile_results)\n",
    "display(\n",
    "    Markdown(\"## Validação de perfis de esports com base em relevância de conteúdo\")\n",
    ")\n",
    "display(df_esports_profiles)"
   ]
  },
  {
   "cell_type": "code",
   "execution_count": null,
   "id": "5cfc09d6-18ff-4853-9b8a-6ac47aed5e88",
   "metadata": {},
   "outputs": [
    {
     "data": {
      "text/markdown": [
       "## Categoria de perfil"
      ],
      "text/plain": [
       "<IPython.core.display.Markdown object>"
      ]
     },
     "metadata": {},
     "output_type": "display_data"
    },
    {
     "data": {
      "text/markdown": [
       "**Tipo:** 🏆 Fã hardcore / Jogador competitivo"
      ],
      "text/plain": [
       "<IPython.core.display.Markdown object>"
      ]
     },
     "metadata": {},
     "output_type": "display_data"
    },
    {
     "data": {
      "text/markdown": [
       "### Critérios"
      ],
      "text/plain": [
       "<IPython.core.display.Markdown object>"
      ]
     },
     "metadata": {},
     "output_type": "display_data"
    },
    {
     "data": {
      "text/markdown": [
       "- ✔️ Identidade válida"
      ],
      "text/plain": [
       "<IPython.core.display.Markdown object>"
      ]
     },
     "metadata": {},
     "output_type": "display_data"
    },
    {
     "data": {
      "text/markdown": [
       "- ✔️ Interesse nos principais esports"
      ],
      "text/plain": [
       "<IPython.core.display.Markdown object>"
      ]
     },
     "metadata": {},
     "output_type": "display_data"
    },
    {
     "data": {
      "text/markdown": [
       "- ✔️ Frequentou ou participou de eventos"
      ],
      "text/plain": [
       "<IPython.core.display.Markdown object>"
      ]
     },
     "metadata": {},
     "output_type": "display_data"
    },
    {
     "data": {
      "text/markdown": [
       "- ✔️ Contas em sites relevantes de esports"
      ],
      "text/plain": [
       "<IPython.core.display.Markdown object>"
      ]
     },
     "metadata": {},
     "output_type": "display_data"
    }
   ],
   "source": [
    "import pandas as pd\n",
    "import requests\n",
    "from bs4 import BeautifulSoup\n",
    "from IPython.display import display, Markdown\n",
    "\n",
    "# Dados para demonstração\n",
    "form_data = {\n",
    "    \"name\": \"Lucas Martins\",\n",
    "    \"cpf\": \"123.456.789-00\",\n",
    "    \"address\": \"Brasília, DF\",\n",
    "    \"interests\": \"CS:GO, Valorant, AI in gaming\",\n",
    "    \"activities\": \"Assistiu IEM Rio, participei de campeonato de CS2\",\n",
    "    \"purchases\": \"Camiseta oficial FURIA Adidas preta, assinatura HLTV+\",\n",
    "    \"social_links\": [\"https://twitter.com/lucas_fan\", \"https://instagram.com/lucas_gg\"],\n",
    "    \"esports_links\": [\n",
    "        \"https://liquipedia.net/counterstrike/Lucas\",\n",
    "        \"https://steamcommunity.com/id/lucasvalorant/\",\n",
    "    ],\n",
    "}\n",
    "\n",
    "esports_profile_results = [\n",
    "    {\n",
    "        \"link\": \"https://liquipedia.net/counterstrike/Lucas\",\n",
    "        \"status\": \"ok\",\n",
    "        \"matched_keywords\": [\"furia\", \"csgo\"],\n",
    "        \"name_found\": True,\n",
    "    },\n",
    "    {\n",
    "        \"link\": \"https://steamcommunity.com/id/lucasvalorant/\",\n",
    "        \"status\": \"ok\",\n",
    "        \"matched_keywords\": [\"valorant\"],\n",
    "        \"name_found\": False,\n",
    "    },\n",
    "]\n",
    "\n",
    "\n",
    "def classify_fan(form_data, doc_valid, social_keywords, esports_profiles):\n",
    "    score = 0\n",
    "    explanation = []\n",
    "\n",
    "    if doc_valid:\n",
    "        score += 1\n",
    "        explanation.append(\"✔️ Identidade válida\")\n",
    "\n",
    "    interests = form_data[\"interests\"].lower()\n",
    "    activities = form_data[\"activities\"].lower()\n",
    "    if any(\n",
    "        kw in interests for kw in [\"cs:go\", \"valorant\", \"league of legends\", \"esports\"]\n",
    "    ):\n",
    "        score += 1\n",
    "        explanation.append(\"✔️ Interesse nos principais esports\")\n",
    "    if \"campeonato\" in activities or \"league\" in activities or \"iem\" in activities:\n",
    "        score += 1\n",
    "        explanation.append(\"✔️ Frequentou ou participou de eventos\")\n",
    "\n",
    "    if social_keywords:\n",
    "        score += 1\n",
    "        explanation.append(\"✔️ Keywords de esports nas redes sociais\")\n",
    "\n",
    "    relevant_profiles = [\n",
    "        profile\n",
    "        for profile in esports_profiles\n",
    "        if profile[\"status\"] == \"ok\"\n",
    "        and (profile[\"matched_keywords\"] or profile[\"name_found\"])\n",
    "    ]\n",
    "    if relevant_profiles:\n",
    "        score += 1\n",
    "        explanation.append(\"✔️ Contas em sites relevantes de esports\")\n",
    "\n",
    "    if score >= 4:\n",
    "        fan_type = \"🏆 Fã hardcore / Jogador competitivo\"\n",
    "    elif score == 3:\n",
    "        fan_type = \"🔥 Fã engajado\"\n",
    "    elif score == 2:\n",
    "        fan_type = \"👍 Fã casual\"\n",
    "    else:\n",
    "        fan_type = \"👀 Fã novo ou de baixo engajamento\"\n",
    "\n",
    "    return fan_type, explanation\n",
    "\n",
    "\n",
    "doc_validation_passed = True\n",
    "social_keywords_found = []  # Skipped social scraping\n",
    "fan_type_result, fan_type_explanation = classify_fan(\n",
    "    form_data, doc_validation_passed, social_keywords_found, esports_profile_results\n",
    ")\n",
    "\n",
    "display(Markdown(\"## Categoria de perfil\"))\n",
    "display(Markdown(f\"**Tipo:** {fan_type_result}\"))\n",
    "display(Markdown(\"### Critérios\"))\n",
    "for reason in fan_type_explanation:\n",
    "    display(Markdown(f\"- {reason}\"))"
   ]
  }
 ],
 "metadata": {
  "kernelspec": {
   "display_name": "Python 3 (ipykernel)",
   "language": "python",
   "name": "python3"
  },
  "language_info": {
   "codemirror_mode": {
    "name": "ipython",
    "version": 3
   },
   "file_extension": ".py",
   "mimetype": "text/x-python",
   "name": "python",
   "nbconvert_exporter": "python",
   "pygments_lexer": "ipython3",
   "version": "3.12.0"
  }
 },
 "nbformat": 4,
 "nbformat_minor": 5
}
